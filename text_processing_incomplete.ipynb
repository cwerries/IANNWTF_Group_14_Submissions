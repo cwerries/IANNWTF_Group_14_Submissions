{
  "nbformat": 4,
  "nbformat_minor": 0,
  "metadata": {
    "colab": {
      "name": "text_processing_incomplete.ipynb",
      "provenance": [],
      "collapsed_sections": [],
      "mount_file_id": "1FFpKVZlmW_xPzpoPKRPcOAdYi12IlIDk",
      "authorship_tag": "ABX9TyOnyI5dimwel3TRJCnKEUiO",
      "include_colab_link": true
    },
    "kernelspec": {
      "name": "python3",
      "display_name": "Python 3"
    },
    "language_info": {
      "name": "python"
    }
  },
  "cells": [
    {
      "cell_type": "markdown",
      "metadata": {
        "id": "view-in-github",
        "colab_type": "text"
      },
      "source": [
        "<a href=\"https://colab.research.google.com/github/cwerries/IANNWTF_Group_14_Submissions/blob/master/text_processing_incomplete.ipynb\" target=\"_parent\"><img src=\"https://colab.research.google.com/assets/colab-badge.svg\" alt=\"Open In Colab\"/></a>"
      ]
    },
    {
      "cell_type": "code",
      "execution_count": 1,
      "metadata": {
        "id": "17X-cWvKWMHE"
      },
      "outputs": [],
      "source": [
        "!pip install -q tensorflow-text\n",
        "import matplotlib.pyplot as plt\n",
        "import numpy as np\n",
        "from numpy import dot\n",
        "from numpy.linalg import norm\n",
        "import string\n",
        "\n",
        "import tensorflow as tf\n",
        "from keras.preprocessing.sequence import skipgrams \n",
        "from keras.preprocessing import text\n",
        "from tensorflow.keras import layers"
      ]
    },
    {
      "cell_type": "code",
      "source": [
        "import os\n",
        "from google.colab import drive\n",
        "drive._mount('/content/drive')\n",
        "os.chdir('drive/MyDrive')"
      ],
      "metadata": {
        "colab": {
          "base_uri": "https://localhost:8080/"
        },
        "id": "wb-nHrJqWYSH",
        "outputId": "100a9f9c-1653-4c27-e97a-ee149d29b2e8"
      },
      "execution_count": 2,
      "outputs": [
        {
          "output_type": "stream",
          "name": "stdout",
          "text": [
            "Drive already mounted at /content/drive; to attempt to forcibly remount, call drive.mount(\"/content/drive\", force_remount=True).\n"
          ]
        }
      ]
    },
    {
      "cell_type": "markdown",
      "source": [
        "## Preprocessing"
      ],
      "metadata": {
        "id": "YrrVjxdPWfpk"
      }
    },
    {
      "cell_type": "markdown",
      "source": [
        "Get most_common_words"
      ],
      "metadata": {
        "id": "A6lunh-AWyv0"
      }
    },
    {
      "cell_type": "code",
      "source": [
        "def most_common_words(sentences): \n",
        "  tokenized = list(sum(sentences, []))\n",
        "  count = {}\n",
        "  for w in tokenized:\n",
        "    count[w] = count.get(w, 0) + 1  # create dictionary of words with counts\n",
        "\n",
        "  sorted_counts = dict(sorted(count.items(), key=lambda item: item[1], reverse=True))  #sort dictionary counts\n",
        "\n",
        "  keys = [key for key in sorted_counts.keys()][:10000]   #get 10000 most common words\n",
        "\n",
        "  return keys"
      ],
      "metadata": {
        "id": "haJkMVEqWfVM"
      },
      "execution_count": 3,
      "outputs": []
    },
    {
      "cell_type": "markdown",
      "source": [
        "Keep only processed sentence parts"
      ],
      "metadata": {
        "id": "YWfF3_QJP3j6"
      }
    },
    {
      "cell_type": "code",
      "source": [
        "import nltk \n",
        "nltk.download('stopwords')\n",
        "stop_words = nltk.corpus.stopwords.words('english') "
      ],
      "metadata": {
        "colab": {
          "base_uri": "https://localhost:8080/"
        },
        "id": "_aGGW5aVDVBJ",
        "outputId": "1f6fbe60-3ab3-406c-9c9d-92dccecb015b"
      },
      "execution_count": 4,
      "outputs": [
        {
          "output_type": "stream",
          "name": "stdout",
          "text": [
            "[nltk_data] Downloading package stopwords to /root/nltk_data...\n",
            "[nltk_data]   Package stopwords is already up-to-date!\n"
          ]
        }
      ]
    },
    {
      "cell_type": "code",
      "source": [
        "with open('bible.txt') as f:\n",
        "    file = f.readlines()\n",
        "\n",
        "file = file[:5000]\n",
        "\n",
        "sentences = []\n",
        "for sentence in file:\n",
        "  if sentence != \"\\n\":\n",
        "    sentence = sentence.translate(str.maketrans('', '', string.digits))\n",
        "    sentence = sentence.translate(str.maketrans('', '', string.punctuation))\n",
        "    sentences.append(sentence.lower().split())\n",
        "\n",
        "print(\"sentences: \", sentences[:2])\n",
        "\n",
        "sentences = [[token for token in s if token not in stop_words] for s in sentences]\n",
        "print(\"sentences: \", sentences[:2])\n",
        "\n",
        "keys = most_common_words(sentences)\n",
        "print(\"keys: \", keys[:5])\n",
        "\n",
        "# sentences with only most common tokens\n",
        "norm_bible = [[token for token in s if token in keys] for s in sentences]\n",
        "print(\"norm_bible: \", norm_bible[:2])\n",
        "\n",
        "norm_bible = [' '.join(tok_sent) for tok_sent in sentences]"
      ],
      "metadata": {
        "colab": {
          "base_uri": "https://localhost:8080/"
        },
        "id": "8sW7smAVWpKI",
        "outputId": "af1959d1-934e-443b-b180-92524e75147d"
      },
      "execution_count": 29,
      "outputs": [
        {
          "output_type": "stream",
          "name": "stdout",
          "text": [
            "sentences:  [['the', 'first', 'book', 'of', 'moses', 'called', 'genesis'], ['in', 'the', 'beginning', 'god', 'created', 'the', 'heaven', 'and', 'the', 'earth']]\n",
            "sentences:  [['first', 'book', 'moses', 'called', 'genesis'], ['beginning', 'god', 'created', 'heaven', 'earth']]\n",
            "keys:  ['unto', 'said', 'thou', 'thy', 'thee']\n",
            "norm_bible:  [['first', 'book', 'moses', 'called', 'genesis'], ['beginning', 'god', 'created', 'heaven', 'earth']]\n"
          ]
        }
      ]
    },
    {
      "cell_type": "markdown",
      "source": [
        "Assigning numeric identifiers to words -> create vocabulary of words with indices"
      ],
      "metadata": {
        "id": "qGM7OCxoYVib"
      }
    },
    {
      "cell_type": "code",
      "source": [
        "tokenizer = text.Tokenizer()\n",
        "tokenizer.fit_on_texts(norm_bible)\n",
        "vocab = tokenizer.word_index\n",
        "inverse_vocab = {id:word for word, id in vocab.items()} #first index then word\n",
        "\n",
        "vocab_size = len(vocab) + 1 # padding included\n",
        "word_ids = [[vocab[id] for id in text.text_to_word_sequence(sent)] for sent in norm_bible]\n",
        "\n",
        "print('Vocabulary Size: ', vocab_size)\n",
        "print('Vocabulary Sample: ', list(vocab.items())[:5]) \n",
        "print(\"Sentences with word_ids: \", word_ids[:2])"
      ],
      "metadata": {
        "colab": {
          "base_uri": "https://localhost:8080/"
        },
        "id": "kJY3aX2LYVL9",
        "outputId": "4e0b4e6d-4f98-4ef2-f05b-445259cfb3a6"
      },
      "execution_count": 30,
      "outputs": [
        {
          "output_type": "stream",
          "name": "stdout",
          "text": [
            "Vocabulary Size:  2441\n",
            "Vocabulary Sample:  [('unto', 1), ('said', 2), ('thou', 3), ('thy', 4), ('thee', 5)]\n",
            "Sentences with word_ids:  [[186, 814, 172, 25, 1413], [583, 7, 300, 122, 19]]\n"
          ]
        }
      ]
    },
    {
      "cell_type": "code",
      "source": [
        "# generate skip-grams\n",
        "skip_grams = [skipgrams(w_id, vocabulary_size=vocab_size, window_size=4, negative_samples = 0.0) for w_id in word_ids]\n",
        "\n",
        "# view sample skip-grams\n",
        "pairs, labels = skip_grams[0][0], skip_grams[0][1]\n",
        "\n",
        "for i in range(5):\n",
        "    print(\"({:s} ({:d}), {:s} ({:d}))\".format(\n",
        "          inverse_vocab[pairs[i][0]], pairs[i][0], \n",
        "          inverse_vocab[pairs[i][1]], pairs[i][1])) "
      ],
      "metadata": {
        "colab": {
          "base_uri": "https://localhost:8080/"
        },
        "id": "Vz3P7V5TY-is",
        "outputId": "5b03cab7-b1fe-4a9f-ba21-9622096a23ff"
      },
      "execution_count": 31,
      "outputs": [
        {
          "output_type": "stream",
          "name": "stdout",
          "text": [
            "(genesis (1413), book (814))\n",
            "(first (186), genesis (1413))\n",
            "(genesis (1413), first (186))\n",
            "(called (25), book (814))\n",
            "(moses (172), book (814))\n"
          ]
        }
      ]
    },
    {
      "cell_type": "markdown",
      "source": [
        "List of Skipgrams with word ids"
      ],
      "metadata": {
        "id": "5ha0dL5ta4wl"
      }
    },
    {
      "cell_type": "code",
      "source": [
        "# keep only word ids\n",
        "list_pairs = []\n",
        "for pair, _ in skip_grams:\n",
        "  list_pairs.append(pair)\n",
        "\n",
        "#flatten list\n",
        "flat_list = []\n",
        "for sublist in list_pairs:\n",
        "  for item in sublist:\n",
        "    if item[0] != item[1]:\n",
        "      flat_list.append(item)\n",
        "\n",
        "word_pairs_array = np.array(flat_list)\n",
        "#print(word_pairs_array[:200])\n",
        "# x = 0\n",
        "# for pair in word_pairs_array:\n",
        "#   if x <= 500:\n",
        "#     print(inverse_vocab[pair[0]], inverse_vocab[pair[1]])\n",
        "#     x += 1\n",
        "    "
      ],
      "metadata": {
        "id": "mRAfRubPajuD"
      },
      "execution_count": 32,
      "outputs": []
    },
    {
      "cell_type": "markdown",
      "source": [
        "Create tensor dataset"
      ],
      "metadata": {
        "id": "0s-QqFy4kBrb"
      }
    },
    {
      "cell_type": "code",
      "source": [
        "word_pairs_tensor =tf.data.Dataset.from_tensor_slices((word_pairs_array[:,0], word_pairs_array[:,1])) # create our data_set with inputs and targets\n",
        "word_pairs_tensor = word_pairs_tensor.map(lambda word,embed: (word,tf.reshape(embed,(-1,)))) # the labels must have shape (batchsize,1) or the nce won't work later\n",
        "prepared_ds = word_pairs_tensor.shuffle(1000).batch(32).prefetch(32)"
      ],
      "metadata": {
        "id": "xV32zOr_fyda"
      },
      "execution_count": 33,
      "outputs": []
    },
    {
      "cell_type": "markdown",
      "source": [
        "# Model"
      ],
      "metadata": {
        "id": "wrnJj6sGZgF5"
      }
    },
    {
      "cell_type": "code",
      "source": [
        "class SkipGram(layers.Layer):\n",
        "    def __init__(self, vocab_size, embedding_size):\n",
        "        super(SkipGram, self).__init__()\n",
        "        self.vocab_size = vocab_size\n",
        "        self.embedding_size = embedding_size\n",
        "\n",
        "        self.build(\"x\")\n",
        "\n",
        "    def build(self, input_shape):\n",
        "      \n",
        "      # self.weight_matrix = tf.Variable(tf.random.normal([self.vocab_size, self.embedding_size])) # we wnat the nce_weights to be randomly distributed at the start\n",
        "      # self.score_bias = tf.Variable(tf.zeros([self.vocab_size])) # and the biases to be 0\n",
        "      # self.emb_matrix = tf.Variable(tf.random.uniform([self.vocab_size, self.embedding_size])) # we choose a uniform random variable for the embedding matrix\n",
        "\n",
        "      self.emb_matrix = self.add_weight(shape=(self.vocab_size, self.embedding_size), initializer='GlorotNormal')\n",
        "      self.weight_matrix = self.add_weight(shape=(self.vocab_size, self.embedding_size), initializer='GlorotNormal')\n",
        "      self.score_bias = self.add_weight(shape=(self.vocab_size), initializer='zeros')\n",
        "\n",
        "    def call(self, input, labels):\n",
        "        embeddings = tf.nn.embedding_lookup(self.emb_matrix, input)\n",
        "        nce_loss = tf.nn.nce_loss(\n",
        "            weights = self.weight_matrix,\n",
        "            biases = self.score_bias,\n",
        "            labels = labels,\n",
        "            inputs = embeddings,\n",
        "            num_sampled = 15,\n",
        "            num_classes = self.vocab_size\n",
        "            )\n",
        "        loss = tf.reduce_mean(nce_loss)\n",
        "        return loss"
      ],
      "metadata": {
        "id": "FDEfCBekZ7sM"
      },
      "execution_count": 34,
      "outputs": []
    },
    {
      "cell_type": "markdown",
      "source": [
        "# Training"
      ],
      "metadata": {
        "id": "O75zOF-SbG1c"
      }
    },
    {
      "cell_type": "code",
      "source": [
        "def nearest_neighbours(model, check_words):\n",
        "  embeddings = model.emb_matrix.numpy()\n",
        "\n",
        "  for word in check_words:\n",
        "    word_id = vocab[word] # word ids of check_words\n",
        "\n",
        "    cosine_sim = []\n",
        "    #get closest word\n",
        "    for i in range(len(embeddings)):\n",
        "      cosine_sim.append(np.dot(embeddings[word_id], embeddings[i])/(norm(embeddings[word_id])*norm(embeddings[i])))\n",
        "\n",
        "    nearest_neighbours = np.argsort(cosine_sim)[:1]\n",
        "    print(\"To '\", word,\"' the nearest neighbour is: \", \",\".join([inverse_vocab[n] for n in nearest_neighbours]))"
      ],
      "metadata": {
        "id": "vyLdjTuOoZ2S"
      },
      "execution_count": 35,
      "outputs": []
    },
    {
      "cell_type": "code",
      "source": [
        "tf.keras.backend.clear_session()\n",
        "\n",
        "# define hyperparams\n",
        "learning_rate = 0.01\n",
        "num_epochs = 10\n",
        "embedding_size = 64\n",
        "k = 5\n",
        "\n",
        "model = SkipGram(vocab_size, embedding_size)\n",
        "optimizer = tf.optimizers.Adam(learning_rate)\n",
        "#check_words= [\"holy\", \"father\", \"wine\", \"poison\", \"love\", \"strong\", \"day\" ]\n",
        "check_words = [\"moses\", \"book\", \"genesis\", \"earth\", \"heaven\", \"god\", \"spirit\"]\n",
        "losses = []\n",
        "\n",
        "# We train for num_epochs epochs.\n",
        "for epoch in range(num_epochs):\n",
        "\n",
        "    epoch_loss_agg = []\n",
        "    for input,target in prepared_ds:\n",
        "\n",
        "      with tf.GradientTape() as tape:\n",
        "        loss = model(input, target) # get the loss\n",
        "      gradients = tape.gradient(loss, model.trainable_variables)\n",
        "      optimizer.apply_gradients(zip(gradients, model.trainable_variables))\n",
        "      epoch_loss_agg.append(loss)\n",
        "                   \n",
        "    losses.append(tf.reduce_mean(epoch_loss_agg))\n",
        "    \n",
        "    print(f'Epoch: {str(epoch)} with loss {losses[-1]}')\n",
        "\n",
        "    # after each epoch k nearest words\n",
        "    nearest_neighbours(model, check_words)\n"
      ],
      "metadata": {
        "colab": {
          "base_uri": "https://localhost:8080/"
        },
        "id": "cguPm-zSbF27",
        "outputId": "5d2a75d1-24fe-4ccf-b6aa-7a8bc2ab4a4b"
      },
      "execution_count": 36,
      "outputs": [
        {
          "output_type": "stream",
          "name": "stdout",
          "text": [
            "Epoch: 0 with loss 15.112110137939453\n",
            "To ' moses ' the nearest neighbour is:  carmi\n",
            "To ' book ' the nearest neighbour is:  ashamed\n",
            "To ' genesis ' the nearest neighbour is:  ashamed\n",
            "To ' earth ' the nearest neighbour is:  ashamed\n",
            "To ' heaven ' the nearest neighbour is:  ashamed\n",
            "To ' god ' the nearest neighbour is:  renown\n",
            "To ' spirit ' the nearest neighbour is:  renown\n",
            "Epoch: 1 with loss 5.048102378845215\n",
            "To ' moses ' the nearest neighbour is:  doer\n",
            "To ' book ' the nearest neighbour is:  ashamed\n",
            "To ' genesis ' the nearest neighbour is:  ashamed\n",
            "To ' earth ' the nearest neighbour is:  ashamed\n",
            "To ' heaven ' the nearest neighbour is:  ashamed\n",
            "To ' god ' the nearest neighbour is:  doer\n",
            "To ' spirit ' the nearest neighbour is:  ashamed\n",
            "Epoch: 2 with loss 4.555867671966553\n",
            "To ' moses ' the nearest neighbour is:  renown\n",
            "To ' book ' the nearest neighbour is:  ashamed\n",
            "To ' genesis ' the nearest neighbour is:  ashamed\n",
            "To ' earth ' the nearest neighbour is:  bethlehem\n",
            "To ' heaven ' the nearest neighbour is:  ashamed\n",
            "To ' god ' the nearest neighbour is:  doer\n",
            "To ' spirit ' the nearest neighbour is:  ashamed\n",
            "Epoch: 3 with loss 4.060805797576904\n",
            "To ' moses ' the nearest neighbour is:  renown\n",
            "To ' book ' the nearest neighbour is:  ashamed\n",
            "To ' genesis ' the nearest neighbour is:  ashamed\n",
            "To ' earth ' the nearest neighbour is:  bethlehem\n",
            "To ' heaven ' the nearest neighbour is:  ashamed\n",
            "To ' god ' the nearest neighbour is:  doer\n",
            "To ' spirit ' the nearest neighbour is:  ashamed\n",
            "Epoch: 4 with loss 3.710498094558716\n",
            "To ' moses ' the nearest neighbour is:  calneh\n",
            "To ' book ' the nearest neighbour is:  ashamed\n",
            "To ' genesis ' the nearest neighbour is:  ashamed\n",
            "To ' earth ' the nearest neighbour is:  tithes\n",
            "To ' heaven ' the nearest neighbour is:  ashamed\n",
            "To ' god ' the nearest neighbour is:  doer\n",
            "To ' spirit ' the nearest neighbour is:  ashamed\n",
            "Epoch: 5 with loss 3.4546053409576416\n",
            "To ' moses ' the nearest neighbour is:  raamses\n",
            "To ' book ' the nearest neighbour is:  ashamed\n",
            "To ' genesis ' the nearest neighbour is:  ashamed\n",
            "To ' earth ' the nearest neighbour is:  tithes\n",
            "To ' heaven ' the nearest neighbour is:  ashamed\n",
            "To ' god ' the nearest neighbour is:  doer\n",
            "To ' spirit ' the nearest neighbour is:  carmi\n",
            "Epoch: 6 with loss 3.2789244651794434\n",
            "To ' moses ' the nearest neighbour is:  raamses\n",
            "To ' book ' the nearest neighbour is:  ashamed\n",
            "To ' genesis ' the nearest neighbour is:  ashamed\n",
            "To ' earth ' the nearest neighbour is:  tithes\n",
            "To ' heaven ' the nearest neighbour is:  ashamed\n",
            "To ' god ' the nearest neighbour is:  doer\n",
            "To ' spirit ' the nearest neighbour is:  carmi\n",
            "Epoch: 7 with loss 3.195237398147583\n",
            "To ' moses ' the nearest neighbour is:  raamses\n",
            "To ' book ' the nearest neighbour is:  ashamed\n",
            "To ' genesis ' the nearest neighbour is:  ashamed\n",
            "To ' earth ' the nearest neighbour is:  tithes\n",
            "To ' heaven ' the nearest neighbour is:  ashamed\n",
            "To ' god ' the nearest neighbour is:  doer\n",
            "To ' spirit ' the nearest neighbour is:  ashamed\n",
            "Epoch: 8 with loss 3.1564834117889404\n",
            "To ' moses ' the nearest neighbour is:  raamses\n",
            "To ' book ' the nearest neighbour is:  ashamed\n",
            "To ' genesis ' the nearest neighbour is:  ashamed\n",
            "To ' earth ' the nearest neighbour is:  tithes\n",
            "To ' heaven ' the nearest neighbour is:  ashamed\n",
            "To ' god ' the nearest neighbour is:  doer\n",
            "To ' spirit ' the nearest neighbour is:  carmi\n",
            "Epoch: 9 with loss 3.0899884700775146\n",
            "To ' moses ' the nearest neighbour is:  overspread\n",
            "To ' book ' the nearest neighbour is:  raamses\n",
            "To ' genesis ' the nearest neighbour is:  ashamed\n",
            "To ' earth ' the nearest neighbour is:  tithes\n",
            "To ' heaven ' the nearest neighbour is:  ashamed\n",
            "To ' god ' the nearest neighbour is:  doer\n",
            "To ' spirit ' the nearest neighbour is:  carmi\n"
          ]
        }
      ]
    },
    {
      "cell_type": "markdown",
      "source": [
        "# Plot losses"
      ],
      "metadata": {
        "id": "OnrMPR-j9xox"
      }
    },
    {
      "cell_type": "code",
      "source": [
        "import matplotlib.pyplot as plt\n",
        "plt.figure()\n",
        "plt.plot(losses)\n",
        "plt.title(\"Train losses\")\n",
        "plt.xlabel(\"Epoch\")\n",
        "plt.ylabel(\"loss\")\n",
        "plt.show()"
      ],
      "metadata": {
        "colab": {
          "base_uri": "https://localhost:8080/",
          "height": 295
        },
        "id": "V4ZOVuu19tFS",
        "outputId": "4b1fb8bd-2214-40e5-bd26-e0533cf20231"
      },
      "execution_count": 37,
      "outputs": [
        {
          "output_type": "display_data",
          "data": {
            "image/png": "[encoded data removed]",
            "text/plain": [
              "<Figure size 432x288 with 1 Axes>"
            ]
          },
          "metadata": {
            "needs_background": "light"
          }
        }
      ]
    }
  ]
}