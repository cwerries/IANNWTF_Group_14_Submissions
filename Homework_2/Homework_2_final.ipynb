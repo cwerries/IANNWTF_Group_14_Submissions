{
 "cells": [
  {
   "cell_type": "markdown",
   "id": "9c678601",
   "metadata": {},
   "source": [
    "# Initialize Libraries"
   ]
  },
  {
   "cell_type": "code",
   "execution_count": 1,
   "id": "09a1f8c1",
   "metadata": {},
   "outputs": [],
   "source": [
    "import numpy as np\n",
    "from random import randint\n",
    "import matplotlib.pyplot as plt"
   ]
  },
  {
   "cell_type": "markdown",
   "id": "e9eae124",
   "metadata": {},
   "source": [
    "# Important functions"
   ]
  },
  {
   "cell_type": "code",
   "execution_count": 2,
   "id": "2820b268",
   "metadata": {},
   "outputs": [],
   "source": [
    "# Sigmoid and sigmoid prime function\n",
    "\n",
    "def sigmoid(x):\n",
    "    return (1/(1+np.exp(-x)))\n",
    "\n",
    "def sigmoidprime(x):\n",
    "    return (sigmoid(x) * (1 - sigmoid(x)))\n",
    "\n",
    "#we need this to calculate the accuracy\n",
    "def correct_label(outcome,label):\n",
    "    if ((label == 0 and outcome <0.5) or (label == 1 and outcome >=0.5)):\n",
    "        return 1\n",
    "    else:\n",
    "        return 0\n",
    "      "
   ]
  },
  {
   "cell_type": "markdown",
   "id": "430b2c75",
   "metadata": {},
   "source": [
    "# Perceptron Class"
   ]
  },
  {
   "cell_type": "code",
   "execution_count": 3,
   "id": "c8d7a083",
   "metadata": {},
   "outputs": [],
   "source": [
    "class Perceptron:\n",
    "    \"\"\"These are the Neurons of the Neuronal Network. Variables:\n",
    "    \n",
    "    input units = numer of connections to Perceprons in layer before\n",
    "    \n",
    "    weights = weights of the connections to Perceptons of prev. Layer\n",
    "    \n",
    "    bias = bias of this Percepron\n",
    "    \n",
    "    alpha = learning rate \n",
    "    \n",
    "    drive = weihghts * activation of last Layer + Bias\n",
    "    \n",
    "    activation = sigmoid of drive \n",
    "    \n",
    "    actication_prev_layer = activation of the prvious layer-store to calculate the backpropagation\n",
    "    \"\"\"    \n",
    "    \n",
    "    def __init__(self, input_units): \n",
    "       \n",
    "        self.input_units = input_units\n",
    "        self.weights = np.random.randn(input_units)    # create array wtih length of number of imput with random values\n",
    "        self.bias = np.random.randn()                  # bias gets a random start value\n",
    "        self.alpha = 1                                 # learning rate\n",
    "        self.drive = 0 \n",
    "        self.activation = 0                            # sigmoid of self.drive\n",
    "        self.activation_prev_layer = np.empty(input_units)\n",
    "        \n",
    "\n",
    "    def forward(self, input_activation): \n",
    "        \"\"\" forward:\n",
    "        \n",
    "        called in MLP\n",
    "        \n",
    "        receives the activation of the previous Layer\n",
    "        returns the activation of this Percepton\n",
    "        \"\"\"\n",
    "        self.activation_prev_layer = input_activation   # store acticativation  of prev_layer\n",
    "        self.drive = np.dot(input_activation,self.weights) + self.bias  #calculate the drice cy building dot product of activation times weight\n",
    "        self.activation = sigmoid(self.drive)           # calculate the activation of this Percepton by applining\n",
    "        return self.activation\n",
    "    \n",
    "    \n",
    "    def update(self, delta): # delta is the error function\n",
    "        \"\"\"update:\n",
    "        \n",
    "        called in MLP\n",
    "        \n",
    "        - receives delta/error function \n",
    "        - updates the weights and biases\n",
    "        - weight_old = alpha* delta * activation of previous layer\n",
    "        \"\"\"\n",
    "        \n",
    "        self.weights -= self.alpha * delta * self.activation_prev_layer\n",
    "        self.bias -= self.alpha * delta \n",
    "        \n",
    "       \n",
    "    def get_drive(self):\n",
    "        return self.drive\n",
    "    \n",
    "    def get_weights(self):\n",
    "        return self.weights\n",
    "        \n",
    "        "
   ]
  },
  {
   "cell_type": "markdown",
   "id": "c28e6cb4",
   "metadata": {},
   "source": [
    "# Multilayer Perceptron (MLP)"
   ]
  },
  {
   "cell_type": "code",
   "execution_count": 4,
   "id": "a929f68f",
   "metadata": {},
   "outputs": [],
   "source": [
    "# just for one hidden layer-> works\n",
    "class MLP():\n",
    "    \"\"\"Class: MLP\n",
    "    \n",
    "    - called in training\n",
    "    \n",
    "    size_hidden_Layer = ammount of Perceptrons per Layer\n",
    "    input_units = ammount of input values from \"the first Layer\"\n",
    "    \n",
    "    - has one hiddden Layer \n",
    "    - creates Perceptrons in hidden and output layer \n",
    "    \"\"\"\n",
    "    \n",
    "    def __init__(self, input_units, size_hidden_layer = 4):\n",
    "        self.size_hidden_layer = size_hidden_layer\n",
    "        \n",
    "        #store hidden Layer Perceprtons in array\n",
    "        self.hidden_layer = np.array( [Perceptron(input_units) for i in range(size_hidden_layer)], dtype=object)\n",
    "        self.output_layer = Perceptron(size_hidden_layer) \n",
    "        \n",
    "        \n",
    "        \n",
    "    def forward_step(self, input_activation):\n",
    "        \"\"\"forward_step\n",
    "        \n",
    "        - called in training\n",
    "        \n",
    "        - receives input_activation/ training data\n",
    "        - calls forward on every percepron in hidden layer and stores activation in array\n",
    "        - calls forward on output layer with array of activation of hidden layer\n",
    "        - return output of output perceptron\n",
    "        \"\"\"\n",
    "        \n",
    "        outputs = np.empty(self.size_hidden_layer)        \n",
    "        for i in range(self.size_hidden_layer):\n",
    "            outputs[i] = self.hidden_layer[i].forward(input_activation)\n",
    "        return self.output_layer.forward(outputs)        \n",
    "        \n",
    "        \n",
    "        \n",
    "    def backprop_step(self, derivate_loss):\n",
    "        \"\"\"backprop_step:\n",
    "        \n",
    "        - called in training\n",
    "        \n",
    "        - receives the derivate of the_loss for one training point.\n",
    "        - calculates delta for each Perceptron  \n",
    "        - update each Perceptron\n",
    "        \"\"\"\n",
    "        \n",
    "        \n",
    "        delta_ol = derivate_loss * sigmoidprime(self.output_layer.get_drive())# activation/ loss       \n",
    "        self.output_layer.update(delta_ol)\n",
    "        \n",
    "        derivative_weights = delta_ol * self.output_layer.get_weights()\n",
    "        \n",
    "        for i in range(self.size_hidden_layer):\n",
    "            delta_hl = derivative_weights[i] * sigmoidprime(self.hidden_layer[i].get_drive())        \n",
    "            self.hidden_layer[i].update(delta_hl)\n"
   ]
  },
  {
   "cell_type": "markdown",
   "id": "e89427e4",
   "metadata": {},
   "source": [
    "# Training Process"
   ]
  },
  {
   "cell_type": "code",
   "execution_count": 5,
   "id": "5a0147d7",
   "metadata": {},
   "outputs": [],
   "source": [
    "#Training data\n",
    "possible_input = np.array(([1,1],[1,0],[0,1],[0,0]))\n",
    "\n",
    "target_and = np.array([1,0,0,0])\n",
    "target_or = np.array([1,1,1,0])\n",
    "target_nand = np.array([0,1,1,1])\n",
    "target_nor = np.array([0,0,0,1])\n",
    "target_xor = np.array([0,1,1,0])\n",
    "\n",
    "#training\n",
    "mlp = MLP(2,4)\n",
    "amount_training_epoch = 1000\n",
    "target = target_and\n",
    "\n",
    "\n",
    "arr_loss = np.zeros(amount_training_epoch)\n",
    "arr_accuracy = np.zeros(amount_training_epoch)\n",
    "\n",
    "for epoch in range(amount_training_epoch):\n",
    "    \n",
    "    accuracy_epoch = 0 #how accurate the calculation is in this wpoch\n",
    "    loss_epoch = 0\n",
    "    for i in range(len(possible_input)):#randomization->einfügen\n",
    "    \n",
    "        #forward step\n",
    "        prediction = mlp.forward_step(possible_input[i]) # outcome of our mlp\n",
    "\n",
    "        #backward step\n",
    "        derivate_loss = -2*(target[i]-prediction)\n",
    "        mlp.backprop_step(derivate_loss)\n",
    "    \n",
    "        # accuracy and loss is calculated and summed up\n",
    "        \n",
    "        accuracy_epoch += correct_label(prediction,target[i]) # add 1 if correct and 0 if not\n",
    "        loss_epoch += pow((target[i] - prediction),2) # squart error between outcome and actual label\n",
    " \n",
    "    #put loss and accuracy of each epoch in array\n",
    "    arr_accuracy[epoch] = accuracy_epoch/len(possible_input)\n",
    "    arr_loss[epoch] = loss_epoch/len(possible_input)"
   ]
  },
  {
   "cell_type": "markdown",
   "id": "80ec4fdb",
   "metadata": {},
   "source": [
    "# Visualization"
   ]
  },
  {
   "cell_type": "code",
   "execution_count": 6,
   "id": "52af0479",
   "metadata": {},
   "outputs": [
    {
     "data": {
      "image/png": "[encoded data removed]",
      "text/plain": [
       "<Figure size 432x288 with 1 Axes>"
      ]
     },
     "metadata": {
      "needs_background": "light"
     },
     "output_type": "display_data"
    },
    {
     "data": {
      "image/png": "[encoded data removed]",
      "text/plain": [
       "<Figure size 432x288 with 1 Axes>"
      ]
     },
     "metadata": {
      "needs_background": "light"
     },
     "output_type": "display_data"
    }
   ],
   "source": [
    "#Visulalisation of accuracy\n",
    "plt.figure()\n",
    "plt.plot(range(amount_training_epoch),arr_accuracy)\n",
    "plt.xlabel(\"Epoch\")\n",
    "plt.ylabel(\"Accuracy\")\n",
    "plt.ylim([-0.1, 1.2])\n",
    "plt.show()\n",
    "\n",
    "#Visulalisation of loss\n",
    "plt.figure()\n",
    "plt.plot(range(amount_training_epoch),arr_loss)\n",
    "plt.xlabel(\"Epoch\")\n",
    "plt.ylabel(\"Loss\")\n",
    "plt.ylim([-0.1, 1.2])\n",
    "plt.show()"
   ]
  }
 ],
 "metadata": {
  "kernelspec": {
   "display_name": "Python 3 (ipykernel)",
   "language": "python",
   "name": "python3"
  },
  "language_info": {
   "codemirror_mode": {
    "name": "ipython",
    "version": 3
   },
   "file_extension": ".py",
   "mimetype": "text/x-python",
   "name": "python",
   "nbconvert_exporter": "python",
   "pygments_lexer": "ipython3",
   "version": "3.9.7"
  }
 },
 "nbformat": 4,
 "nbformat_minor": 5
}
