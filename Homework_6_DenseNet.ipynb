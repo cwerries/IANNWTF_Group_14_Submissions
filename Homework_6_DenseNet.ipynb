{
  "nbformat": 4,
  "nbformat_minor": 0,
  "metadata": {
    "colab": {
      "name": "Homework 6 - DenseNet.ipynb",
      "provenance": [],
      "include_colab_link": true
    },
    "kernelspec": {
      "name": "python3",
      "display_name": "Python 3"
    },
    "language_info": {
      "name": "python"
    },
    "accelerator": "GPU"
  },
  "cells": [
    {
      "cell_type": "markdown",
      "metadata": {
        "id": "view-in-github",
        "colab_type": "text"
      },
      "source": [
        "<a href=\"https://colab.research.google.com/github/cwerries/IANNWTF_Group_14_Submissions/blob/master/Homework_6_DenseNet.ipynb\" target=\"_parent\"><img src=\"https://colab.research.google.com/assets/colab-badge.svg\" alt=\"Open In Colab\"/></a>"
      ]
    },
    {
      "cell_type": "markdown",
      "metadata": {
        "id": "FGWBfGOlmMEG"
      },
      "source": [
        "Imports"
      ]
    },
    {
      "cell_type": "code",
      "metadata": {
        "id": "lEE1tGDZqV7R"
      },
      "source": [
        "import numpy as np\n",
        "\n",
        "import datetime as dt\n",
        "\n",
        "%tensorflow_version 2.x\n",
        "import tensorflow as tf\n",
        "\n",
        "import matplotlib.pyplot as plt\n",
        "\n",
        "import os"
      ],
      "execution_count": null,
      "outputs": []
    },
    {
      "cell_type": "markdown",
      "metadata": {
        "id": "qr0cj9yAmQmT"
      },
      "source": [
        "Loading dataset Cifar-10"
      ]
    },
    {
      "cell_type": "code",
      "metadata": {
        "colab": {
          "base_uri": "https://localhost:8080/"
        },
        "id": "pCeNbSHpqoAU",
        "outputId": "9f3cd69d-74ad-40b1-ed16-efd0c7caffe7"
      },
      "source": [
        "(training_inputs, training_labels), (test_inputs, test_labels) = tf.keras.datasets.cifar10.load_data()\n",
        "\n",
        "print(\"Training inputs: \" + str(training_inputs.shape))\n",
        "print(\"Training labels: \" + str(training_labels.shape))\n",
        "print(\"Test inputs: \" + str(test_inputs.shape))\n",
        "print(\"Test labels: \" + str(test_labels.shape))"
      ],
      "execution_count": null,
      "outputs": [
        {
          "output_type": "stream",
          "name": "stdout",
          "text": [
            "Downloading data from https://www.cs.toronto.edu/~kriz/cifar-10-python.tar.gz\n",
            "170500096/170498071 [==============================] - 11s 0us/step\n",
            "170508288/170498071 [==============================] - 11s 0us/step\n",
            "Training inputs: (50000, 32, 32, 3)\n",
            "Training labels: (50000, 1)\n",
            "Test inputs: (10000, 32, 32, 3)\n",
            "Test labels: (10000, 1)\n"
          ]
        }
      ]
    },
    {
      "cell_type": "code",
      "metadata": {
        "id": "fgAwxmBLmZYW"
      },
      "source": [
        "Input pipeline"
      ],
      "execution_count": null,
      "outputs": []
    },
    {
      "cell_type": "code",
      "metadata": {
        "id": "iN0Fp9zUqtt1"
      },
      "source": [
        "batch_size = 64\n",
        "\n",
        "# Creates tensorflow datasets for the training and test data.\n",
        "training_dataset = tf.data.Dataset.from_tensor_slices((training_inputs, training_labels))\n",
        "test_dataset = tf.data.Dataset.from_tensor_slices((test_inputs, test_labels))\n",
        "\n",
        "# Conducts the normalization of the inputs (images) and the one-hot-encoding of the targets.\n",
        "training_dataset = training_dataset.map(lambda inp, tar: (inp, tf.one_hot(tf.squeeze(tar), 10)))\n",
        "# tf.squeeze(tar) to remove dimensions of size 1 from the shape of the target-tensors.\n",
        "training_dataset = training_dataset.map(lambda inp, tar: ((2*(inp/255)-1), tar))\n",
        "\n",
        "# Conducts the normalization of the inputs (images) and the one-hot-encoding of the targets.\n",
        "test_dataset = test_dataset.map(lambda inp, tar: (inp, tf.one_hot(tf.squeeze(tar), 10)))\n",
        "# tf.squeeze(tar) to remove dimensions of size 1 from the shape of the target-tensors.\n",
        "test_dataset = test_dataset.map(lambda inp, tar: ((2*(inp/255)-1), tar))\n",
        "                                                                                          \n",
        "# Batches, shuffles and prefetches the training- and test datasets.\n",
        "training_dataset = training_dataset.batch(batch_size)\n",
        "training_dataset = training_dataset.shuffle(buffer_size = batch_size*10)\n",
        "training_dataset = training_dataset.prefetch(batch_size)\n",
        "\n",
        "test_dataset = test_dataset.batch(batch_size)\n",
        "test_dataset = test_dataset.shuffle(buffer_size = batch_size*10)\n",
        "test_dataset = test_dataset.prefetch(128)"
      ],
      "execution_count": null,
      "outputs": []
    },
    {
      "cell_type": "code",
      "metadata": {
        "id": "a6TcXhhzmecV"
      },
      "source": [
        "Transition layer"
      ],
      "execution_count": null,
      "outputs": []
    },
    {
      "cell_type": "code",
      "metadata": {
        "id": "lkepHd9sqyul"
      },
      "source": [
        "# Description: Instantiates the layers and computations involved in a TransitionLayer from DenseNet\n",
        "#              A transition layer is used to reduce the number of channels and control complexity of model\n",
        "class TransitionLayer(tf.keras.layers.Layer): \n",
        "  \n",
        "  def __init__(self, num_channels_trans_layer):\n",
        "    super(TransitionLayer, self).__init__()\n",
        "\n",
        "    self.conv_1 = tf.keras.layers.Conv2D(filters = num_channels_trans_layer,\n",
        "                                         kernel_size = 1,\n",
        "                                         activation = None,\n",
        "                                         padding = 'same',\n",
        "                                         kernel_initializer = tf.keras.initializers.glorot_normal,   \n",
        "                                         bias_initializer = 'zeros',                                 \n",
        "                                         kernel_regularizer = tf.keras.regularizers.L2(0.01))\n",
        "            \n",
        "    self.batch_norm_1 = tf.keras.layers.BatchNormalization()\n",
        "\n",
        "    self.activ_1 = tf.keras.activations.relu\n",
        "                             \n",
        "    self.aver_pool_1 = tf.keras.layers.AveragePooling2D(strides=(2, 2), padding = 'same')   #Without strides?\n",
        "\n",
        "  @tf.function\n",
        "  def call(self, x, training = True):\n",
        "    x = self.conv_1(x)\n",
        "    x = self.batch_norm_1(x, training)\n",
        "    x = self.activ_1(x)\n",
        "    x = self.aver_pool_1(x)\n",
        "    return x"
      ],
      "execution_count": null,
      "outputs": []
    },
    {
      "cell_type": "code",
      "metadata": {
        "id": "WqJi4EXbsetI"
      },
      "source": [
        "#Description: Class creates a convolutional block wich for the Dense Blocks.\n",
        "#             concatenation of input and output of each convolution block\n",
        "class ConvolutionalBlock(tf.keras.layers.Layer): \n",
        "  \n",
        "  def __init__(self, num_filter):\n",
        "    super(ConvolutionalBlock, self).__init__()\n",
        "\n",
        "    self.batch_norm_1 = tf.keras.layers.BatchNormalization()\n",
        "\n",
        "    self.activ_1 = tf.keras.activations.relu\n",
        "\n",
        "    self.conv_1 = tf.keras.layers.Conv2D(filters = num_filter,\n",
        "                                         kernel_size = 1,\n",
        "                                         activation = None,\n",
        "                                         padding = 'same',\n",
        "                                         kernel_initializer = tf.keras.initializers.glorot_normal,   \n",
        "                                         bias_initializer = 'zeros',                                 \n",
        "                                         kernel_regularizer = tf.keras.regularizers.L2(0.01))\n",
        "            \n",
        "    self.conv_2 = tf.keras.layers.Conv2D(filters = num_filter,\n",
        "                                         kernel_size = 3,\n",
        "                                         activation = None,\n",
        "                                         padding = 'same',\n",
        "                                         kernel_initializer = tf.keras.initializers.glorot_normal,   \n",
        "                                         bias_initializer = 'zeros',                                 \n",
        "                                         kernel_regularizer = tf.keras.regularizers.L2(0.01))\n",
        "            \n",
        "    self.batch_norm_2 = tf.keras.layers.BatchNormalization()\n",
        "\n",
        "    self.activ_2 = tf.keras.activations.relu\n",
        "\n",
        "    self.dropout = tf.keras.layers.Dropout(rate = 0.1)\n",
        "              \n",
        "    self.concat = tf.keras.layers.Concatenate()               \n",
        "\n",
        "  @tf.function\n",
        "  def call(self, block_input, training = True):\n",
        "    x = self.batch_norm_1(block_input, training)\n",
        "    x = self.activ_1(x)\n",
        "    x = self.conv_1(x)\n",
        "    x = self.conv_2(x) \n",
        "    x = self.batch_norm_2(x, training)\n",
        "    x = self.activ_2(x)\n",
        "    x = self.dropout(x, training)\n",
        "    # Concatenate the input and output of each block\n",
        "    block_output = self.concat([x, block_input]) \n",
        "    return block_output"
      ],
      "execution_count": null,
      "outputs": []
    },
    {
      "cell_type": "code",
      "metadata": {
        "id": "-Ylw75nvr1fg"
      },
      "source": [
        "#Description: Dense Block consists of multiple convolutional blocks.      \n",
        "class DenseBlock(tf.keras.layers.Layer): \n",
        "\n",
        "  def __init__(self, list_num_filter):\n",
        "    super(DenseBlock, self).__init__()\n",
        "\n",
        "    self.convolutional_blocks = []\n",
        "    for num_filter in list_num_filter:\n",
        "      self.convolutional_blocks.append(ConvolutionalBlock(num_filter))\n",
        "\n",
        "  @tf.function\n",
        "  def call(self, x, training = True):\n",
        "    for conv_block in self.convolutional_blocks:\n",
        "      x = conv_block(x, training)\n",
        "    return x"
      ],
      "execution_count": null,
      "outputs": []
    },
    {
      "cell_type": "code",
      "metadata": {
        "id": "6DRWgD_-rXzX"
      },
      "source": [
        "#Description: Dense net class consits of alternating Dense Blocks and transitional layers\n",
        "#             Concatenates inputs and outputs.\n",
        "class DenseNet(tf.keras.Model): \n",
        "  \n",
        "  def __init__(self, num_dense_blocks, list_num_filter, growth_rate):\n",
        "    super(DenseNet, self).__init__()\n",
        "    num_conv_blocks = len(list_num_filter)\n",
        "    # Feature extractor\n",
        "    self.conv_1 = tf.keras.layers.Conv2D(filters = 32,\n",
        "                                         kernel_size = 3,\n",
        "                                         activation = None,\n",
        "                                         padding = 'same',\n",
        "                                         kernel_initializer = tf.keras.initializers.glorot_normal,   \n",
        "                                         bias_initializer = 'zeros',                                 \n",
        "                                         kernel_regularizer = tf.keras.regularizers.L2(0.01),        \n",
        "                                         input_shape = (32, 32, 3))\n",
        "    \n",
        "    self.batch_norm_1 = tf.keras.layers.BatchNormalization()\n",
        "\n",
        "    self.activ_1 = tf.keras.activations.relu\n",
        "\n",
        "    self.dropout_1 = tf.keras.layers.Dropout(rate = 0.6)    \n",
        "\n",
        "    # calculöate channel size for transitional layer\n",
        "    num_channels_trans_layer = growth_rate * num_conv_blocks\n",
        "\n",
        "    self.dense_blocks_and_trans_layers = []\n",
        "\n",
        "    # The last dense block does not need a transition layer -> num_dense_blocks - 1 \n",
        "    for _ in range(num_dense_blocks - 1):                         \n",
        "      self.dense_blocks_and_trans_layers.append(DenseBlock(list_num_filter))   \n",
        "      self.dense_blocks_and_trans_layers.append(TransitionLayer(num_channels_trans_layer))\n",
        "\n",
        "    self.last_dense_block = DenseBlock(list_num_filter)\n",
        "\n",
        "    # Classifier to produce the output\n",
        "    self.global_pool = tf.keras.layers.GlobalAveragePooling2D()\n",
        "    self.dropout_2 = tf.keras.layers.Dropout(rate = 0.6)                                                  \n",
        "    self.output_layer = tf.keras.layers.Dense(10, activation=tf.keras.activations.softmax)\n",
        "\n",
        "\n",
        "  @tf.function\n",
        "  def call(self, x, training = True):\n",
        "    x = self.conv_1(x)\n",
        "    x = self.batch_norm_1(x, training)\n",
        "    x = self.activ_1(x)\n",
        "    x = self.dropout_1(x, training)\n",
        "\n",
        "    for i in self.dense_blocks_and_trans_layers:\n",
        "      x = i(x, training)\n",
        "    x = self.last_dense_block(x, training)\n",
        "\n",
        "    x = self.global_pool(x)\n",
        "    x = self.dropout_2(x, training)\n",
        "    x = self.output_layer(x)\n",
        "    return x"
      ],
      "execution_count": null,
      "outputs": []
    },
    {
      "cell_type": "markdown",
      "metadata": {
        "id": "opYC6liQp1n-"
      },
      "source": [
        "Training and testing function"
      ]
    },
    {
      "cell_type": "code",
      "metadata": {
        "id": "Gl2lZ72urcX-"
      },
      "source": [
        "#@tf.function\n",
        "def training_step(model, training_data, loss_fn, optimizer, training = True):\n",
        "  training_losses = []\n",
        "  training_accuracies = []\n",
        "\n",
        "  for (input, target) in training_data:\n",
        "    with tf.GradientTape() as tape:\n",
        "      prediction = model(input, training)\n",
        "      current_training_loss = loss_fn(target, prediction)+ tf.math.reduce_sum(model.losses)   \n",
        "      gradients = tape.gradient(current_training_loss, model.trainable_variables)\n",
        "    optimizer.apply_gradients(zip(gradients, model.trainable_variables))\n",
        "\n",
        "    training_losses.append(current_training_loss.numpy())\n",
        "\n",
        "    current_training_accuracy = np.argmax(target, axis=1) == np.argmax(prediction, axis=1)\n",
        "    training_accuracies.append(np.mean(current_training_accuracy))  \n",
        "  \n",
        "  training_loss = np.mean(training_losses)\n",
        "  training_accuracy = np.mean(training_accuracies)\n",
        "  return training_loss, training_accuracy\n",
        "\n",
        "#@tf.function\n",
        "def test(model, test_data, loss_fn, training = False):\n",
        "  test_losses = []\n",
        "  test_accuracies = []\n",
        "\n",
        "  for (input, target) in test_data:\n",
        "    prediction = model(input, training)\n",
        "    \n",
        "    current_test_loss = loss_fn(target, prediction)\n",
        "    test_losses.append(current_test_loss.numpy())\n",
        "\n",
        "    current_test_accuracy = np.argmax(target, axis=1) == np.argmax(prediction, axis=1)\n",
        "    test_accuracies.append(np.mean(current_test_accuracy))   \n",
        "    \n",
        "  test_loss = np.mean(test_losses)\n",
        "  test_accuracy = np.mean(test_accuracies)\n",
        "  return test_loss, test_accuracy"
      ],
      "execution_count": null,
      "outputs": []
    },
    {
      "cell_type": "markdown",
      "metadata": {
        "id": "s2SrlcObp6jF"
      },
      "source": [
        "Training the network"
      ]
    },
    {
      "cell_type": "code",
      "metadata": {
        "colab": {
          "base_uri": "https://localhost:8080/"
        },
        "id": "Ib1yKFPorgRW",
        "outputId": "d02eebae-bd71-4c1f-aee9-2797270f1698"
      },
      "source": [
        "tf.keras.backend.clear_session()\n",
        "\n",
        "num_dense_blocks = 3\n",
        "list_num_filter =[64, 32, 32, 16, 8]\n",
        "num_conv_blocks = len(list_num_filter)\n",
        "growth_rate = 40\n",
        "model = DenseNet(num_dense_blocks, list_num_filter, growth_rate)   \n",
        "\n",
        "n_epochs = 10\n",
        "learning_rate = 0.0005\n",
        "loss_fn = tf.keras.losses.CategoricalCrossentropy()                    # CategoricalCrossentropy because of 10 labels to differ.\n",
        "optimizer = tf.keras.optimizers.Adam(learning_rate, amsgrad = True)    # Optimizer Adam (Adaptive Moment Estimation) with AMSGrad activated.\n",
        " \n",
        "\n",
        "\n",
        "training_losses = []\n",
        "training_accuracies = []\n",
        "test_losses = []\n",
        "test_accuracies = []\n",
        "\n",
        "dynamic_threshold_train_visio = 0.5                                    # Test accuracy threshold from which the training progress is displayed.\n",
        "# Training and test loop\n",
        "for epoch in range(n_epochs):\n",
        "    print('Epoch ' + str(epoch))\n",
        "    ts_now = dt.datetime.now()\n",
        "    print(ts_now)\n",
        "\n",
        "    training_loss, training_accuracy = training_step(model, training_dataset, loss_fn, optimizer, training = True)\n",
        "    training_losses.append(training_loss)\n",
        "    training_accuracies.append(training_accuracy)\n",
        "\n",
        "    test_loss, test_accuracy = test(model, test_dataset, loss_fn, training = False)\n",
        "    test_losses.append(test_loss)\n",
        "    test_accuracies.append(test_accuracy)\n",
        "\n",
        "    print(\"Training accuracy: \" + str(training_accuracy))\n",
        "    print(\"Test accuracy: \" + str(test_accuracy))\n"
      ],
      "execution_count": null,
      "outputs": [
        {
          "output_type": "stream",
          "name": "stdout",
          "text": [
            "Epoch 0\n",
            "2021-12-04 09:01:38.680018\n",
            "Training accuracy: 0.40746882992327366\n",
            "Test accuracy: 0.29866640127388533\n",
            "Epoch 1\n",
            "2021-12-04 09:05:20.009680\n",
            "Training accuracy: 0.5536285166240409\n",
            "Test accuracy: 0.2005374203821656\n",
            "Epoch 2\n",
            "2021-12-04 09:08:38.986380\n",
            "Training accuracy: 0.5973665281329923\n",
            "Test accuracy: 0.5147292993630573\n",
            "Epoch 3\n",
            "2021-12-04 09:11:57.244804\n",
            "Training accuracy: 0.6245604219948849\n",
            "Test accuracy: 0.37350716560509556\n",
            "Epoch 4\n",
            "2021-12-04 09:15:15.094476\n",
            "Training accuracy: 0.648996962915601\n",
            "Test accuracy: 0.585390127388535\n",
            "Epoch 5\n",
            "2021-12-04 09:18:32.181143\n",
            "Training accuracy: 0.6619645140664961\n",
            "Test accuracy: 0.49263535031847133\n",
            "Epoch 6\n",
            "2021-12-04 09:21:49.631582\n",
            "Training accuracy: 0.6792079603580563\n",
            "Test accuracy: 0.5034832802547771\n",
            "Epoch 7\n",
            "2021-12-04 09:25:06.022775\n",
            "Training accuracy: 0.6937939578005116\n",
            "Test accuracy: 0.5411027070063694\n",
            "Epoch 8\n",
            "2021-12-04 09:28:22.672989\n",
            "Training accuracy: 0.7019261508951407\n",
            "Test accuracy: 0.6894904458598726\n",
            "Epoch 9\n",
            "2021-12-04 09:31:38.383077\n",
            "Training accuracy: 0.712116368286445\n",
            "Test accuracy: 0.6858081210191083\n"
          ]
        }
      ]
    },
    {
      "cell_type": "code",
      "metadata": {
        "colab": {
          "base_uri": "https://localhost:8080/",
          "height": 541
        },
        "id": "xPn79oytritW",
        "outputId": "3336614d-355e-4441-d1e2-fb438ec7e601"
      },
      "source": [
        "plt.figure()\n",
        "line1, = plt.plot(training_losses)\n",
        "line2, = plt.plot(test_losses)\n",
        "plt.xlabel(\"Training steps\")\n",
        "plt.ylabel(\"Loss\")\n",
        "plt.legend((line1, line2),(\"Training\", \"Test\"))\n",
        "plt.show()\n",
        "\n",
        "plt.figure()\n",
        "line1, = plt.plot(training_accuracies)\n",
        "line2, = plt.plot(test_accuracies)\n",
        "plt.xlabel(\"Training steps\")\n",
        "plt.ylabel(\"Accuracy\")\n",
        "plt.legend((line1, line2),(\"Training\", \"Test\"))\n",
        "plt.show()"
      ],
      "execution_count": null,
      "outputs": [
        {
          "output_type": "display_data",
          "data": {
            "image/png": "[encoded data removed]",
            "text/plain": [
              "<Figure size 432x288 with 1 Axes>"
            ]
          },
          "metadata": {
            "needs_background": "light"
          }
        },
        {
          "output_type": "display_data",
          "data": {
            "image/png": "[encoded data removed]",
            "text/plain": [
              "<Figure size 432x288 with 1 Axes>"
            ]
          },
          "metadata": {
            "needs_background": "light"
          }
        }
      ]
    }
  ]
}